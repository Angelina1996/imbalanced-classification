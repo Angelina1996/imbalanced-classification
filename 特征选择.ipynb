{
  "nbformat": 4,
  "nbformat_minor": 0,
  "metadata": {
    "colab": {
      "name": "特征选择",
      "provenance": [],
      "collapsed_sections": []
    },
    "kernelspec": {
      "display_name": "Python 3",
      "name": "python3"
    }
  },
  "cells": [
    {
      "cell_type": "code",
      "metadata": {
        "id": "bHH7IIj39Nb-",
        "colab_type": "code",
        "outputId": "ebcec741-8a47-4430-a7fb-7fc5781aac6c",
        "colab": {
          "base_uri": "https://localhost:8080/",
          "height": 127
        }
      },
      "source": [
        "# 导入工具包 numpy pandas用于数据处理  \n",
        "import numpy as np\n",
        "import pandas as pd\n",
        "import matplotlib.pyplot as plt\n",
        "from sklearn.utils import shuffle\n",
        "from sklearn import metrics\n",
        "from sklearn import preprocessing\n",
        "%matplotlib inline\n",
        "#装载云盘\n",
        "from google.colab import drive\n",
        "drive.mount('/content/drive')\n",
        "#4/0gHxpylaIQXqH0HMsq7IH5BzCcKvy9_huS2T9c5C6hr3clC7Odx_qIQ"
      ],
      "execution_count": 0,
      "outputs": [
        {
          "output_type": "stream",
          "text": [
            "Go to this URL in a browser: https://accounts.google.com/o/oauth2/auth?client_id=947318989803-6bn6qk8qdgf4n4g3pfee6491hc0brc4i.apps.googleusercontent.com&redirect_uri=urn%3aietf%3awg%3aoauth%3a2.0%3aoob&response_type=code&scope=email%20https%3a%2f%2fwww.googleapis.com%2fauth%2fdocs.test%20https%3a%2f%2fwww.googleapis.com%2fauth%2fdrive%20https%3a%2f%2fwww.googleapis.com%2fauth%2fdrive.photos.readonly%20https%3a%2f%2fwww.googleapis.com%2fauth%2fpeopleapi.readonly\n",
            "\n",
            "Enter your authorization code:\n",
            "··········\n",
            "Mounted at /content/drive\n"
          ],
          "name": "stdout"
        }
      ]
    },
    {
      "cell_type": "code",
      "metadata": {
        "id": "SXS850I_9YCv",
        "colab_type": "code",
        "outputId": "3d10f38c-b8c5-4fe1-ad87-0603abae79e4",
        "colab": {
          "base_uri": "https://localhost:8080/",
          "height": 35
        }
      },
      "source": [
        "#读取数据\n",
        "#不用的特征\n",
        "#nouse=['area_id','user_id','prov_id','total_times','sex','is_act_expire','call_days','short_call10','long_call10','bank_cnt']\n",
        "nouse=['area_id','user_id','prov_id']\n",
        "#nouse=['is_home_5g_cover_l02','activity_type','is_act_expire','call_days','re_call10','long_call10',\n",
        "# 'active_days02','active_days03','active_days04','active_days05','active_days06','active_days07',\n",
        "# 'active_days08','active_days10','active_days12','active_days13','active_days14','active_days17',\n",
        "# 'active_days18','active_days19','active_days20','active_days21','active_days22','active_days23']+nouse\n",
        "#use=['sex']\n",
        "#自己筛选了一些特征\n",
        "df = pd.read_csv('/content/drive/My Drive/colab/5G_contest/train.csv')\n",
        "df = shuffle(df)\n",
        "train=df.iloc[0:600000,]\n",
        "test=df.iloc[600000:,]\n",
        "train=train.dropna()#删除缺失值\n",
        "train=train.sort_values(by='is_5g',ascending=False)#按照is_5g排序\n",
        "cut=int(sum(train['is_5g']))\n",
        "train=train.iloc[:2*cut,:]#选取前2*cut行\n",
        "#划分特征 与 标签 展现下数据形状\n",
        "y_train=train['is_5g']\n",
        "x_train=train.iloc[:,:-1]\n",
        "x_train=x_train.drop(nouse,axis=1)\n",
        "#进行数据归一化\n",
        "min_max_scaler = preprocessing.MinMaxScaler()\n",
        "x_train01=min_max_scaler.fit_transform(x_train)\n",
        "x_train= pd.DataFrame(x_train01,columns=x_train.columns)\n",
        "#x_train=x_train[use]\n",
        "x_train=x_train.values\n",
        "y_train=y_train.values\n",
        "x_train.shape,y_train.shape"
      ],
      "execution_count": 0,
      "outputs": [
        {
          "output_type": "execute_result",
          "data": {
            "text/plain": [
              "((15948, 56), (15948,))"
            ]
          },
          "metadata": {
            "tags": []
          },
          "execution_count": 22
        }
      ]
    },
    {
      "cell_type": "code",
      "metadata": {
        "id": "5U_WnHOaWgYl",
        "colab_type": "code",
        "outputId": "eb7ecce2-cebd-4fb5-ac98-df22c66cd487",
        "colab": {
          "base_uri": "https://localhost:8080/",
          "height": 35
        }
      },
      "source": [
        "#读取测试集\n",
        "test=test.dropna()\n",
        "#划分特征 与 标签 展现下数据形状\n",
        "y_test=test['is_5g']\n",
        "x_test=test.iloc[:,:-1]\n",
        "x_test=x_test.drop(nouse,axis=1)\n",
        "#x_test=x_test[use]\n",
        "#进行数据归一化\n",
        "min_max_scaler = preprocessing.MinMaxScaler()\n",
        "x_test01=min_max_scaler.fit_transform(x_test)\n",
        "x_test= pd.DataFrame(x_test01,columns=x_test.columns)\n",
        "x_test=x_test.values\n",
        "y_test=y_test.values\n",
        "x_test.shape,y_test.shape"
      ],
      "execution_count": 0,
      "outputs": [
        {
          "output_type": "execute_result",
          "data": {
            "text/plain": [
              "((100000, 56), (100000,))"
            ]
          },
          "metadata": {
            "tags": []
          },
          "execution_count": 23
        }
      ]
    },
    {
      "cell_type": "code",
      "metadata": {
        "id": "mzPqVXa7caTJ",
        "colab_type": "code",
        "colab": {}
      },
      "source": [
        "from sklearn.feature_selection import RFE\n",
        "#使用adaboost分类算法\n",
        "from sklearn.ensemble import AdaBoostClassifier\n",
        "model = AdaBoostClassifier(n_estimators=100, random_state=0)\n",
        "selector = RFE(model, 30, step=2)\n",
        "selector = selector.fit(x_train, y_train)"
      ],
      "execution_count": 0,
      "outputs": []
    },
    {
      "cell_type": "code",
      "metadata": {
        "id": "oedFHtoFcaWz",
        "colab_type": "code",
        "outputId": "b203695e-9453-40f4-98fe-49c2dfacfae3",
        "colab": {
          "base_uri": "https://localhost:8080/",
          "height": 557
        }
      },
      "source": [
        "summary = np.zeros(sum(selector.support_)).tolist()\n",
        "j=0\n",
        "k=0\n",
        "for i in selector.support_:\n",
        "    j=j+1\n",
        "    if i==True:\n",
        "        summary[k]=j-1\n",
        "        k=k+1\n",
        "summary"
      ],
      "execution_count": 0,
      "outputs": [
        {
          "output_type": "execute_result",
          "data": {
            "text/plain": [
              "[0,\n",
              " 1,\n",
              " 2,\n",
              " 3,\n",
              " 4,\n",
              " 5,\n",
              " 6,\n",
              " 7,\n",
              " 8,\n",
              " 9,\n",
              " 10,\n",
              " 11,\n",
              " 12,\n",
              " 13,\n",
              " 14,\n",
              " 15,\n",
              " 16,\n",
              " 17,\n",
              " 18,\n",
              " 19,\n",
              " 20,\n",
              " 21,\n",
              " 22,\n",
              " 23,\n",
              " 24,\n",
              " 25,\n",
              " 26,\n",
              " 27,\n",
              " 28,\n",
              " 29]"
            ]
          },
          "metadata": {
            "tags": []
          },
          "execution_count": 32
        }
      ]
    },
    {
      "cell_type": "code",
      "metadata": {
        "id": "QSF2ecF2dkG_",
        "colab_type": "code",
        "colab": {}
      },
      "source": [
        "x_test=x_test[:,summary]\n",
        "x_train=x_train[:,summary]"
      ],
      "execution_count": 0,
      "outputs": []
    },
    {
      "cell_type": "code",
      "metadata": {
        "id": "h3ZTyYQWWgfW",
        "colab_type": "code",
        "outputId": "c28a96fd-9fb1-4e3e-e4fd-ce9ef8250cef",
        "colab": {
          "base_uri": "https://localhost:8080/",
          "height": 499
        }
      },
      "source": [
        "#特征选择 \n",
        "from sklearn.linear_model import Lasso\n",
        "lasso = Lasso(alpha=.001)\n",
        "lasso.fit(x_train, y_train)\n",
        "print(lasso.coef_)\n",
        "plt.plot(lasso.coef_,'o', label = 'regression')\n",
        "index=lasso.coef_>0\n",
        "coef=[int(i) for i in index]\n",
        "x_train=x_train*coef\n",
        "x_test=x_test*coef"
      ],
      "execution_count": 0,
      "outputs": [
        {
          "output_type": "stream",
          "text": [
            "[-9.32886645e-03  2.93340811e-03 -1.48094162e-02  3.06997119e-01\n",
            "  1.11808431e-01  3.11283205e+00  0.00000000e+00 -0.00000000e+00\n",
            " -1.95976941e-02  1.37641808e-01  0.00000000e+00  1.35027935e-02\n",
            "  1.88584759e-03 -0.00000000e+00  1.14250848e-02  0.00000000e+00\n",
            "  0.00000000e+00 -0.00000000e+00  2.39284873e-02 -2.51263234e-01\n",
            "  0.00000000e+00  1.61004434e-02 -0.00000000e+00  0.00000000e+00\n",
            "  0.00000000e+00 -0.00000000e+00  0.00000000e+00  0.00000000e+00\n",
            "  8.68821067e-03  2.86794576e-03 -0.00000000e+00  2.70409923e-02\n",
            "  0.00000000e+00  0.00000000e+00  0.00000000e+00  2.51727838e-02\n",
            "  2.15099343e-02 -0.00000000e+00 -0.00000000e+00  0.00000000e+00\n",
            "  1.34655259e-01  0.00000000e+00  1.76657649e-02  1.08061729e-02\n",
            " -0.00000000e+00  0.00000000e+00  0.00000000e+00  4.53238471e-01\n",
            " -9.58658099e-02]\n"
          ],
          "name": "stdout"
        },
        {
          "output_type": "display_data",
          "data": {
            "image/png": "[encoded data removed]",
            "text/plain": [
              "<Figure size 432x288 with 1 Axes>"
            ]
          },
          "metadata": {
            "tags": [],
            "needs_background": "light"
          }
        }
      ]
    },
    {
      "cell_type": "code",
      "metadata": {
        "id": "4nncLMAIbETG",
        "colab_type": "code",
        "outputId": "7dc1e834-10f9-493c-c0ba-6af6c7021786",
        "colab": {
          "base_uri": "https://localhost:8080/",
          "height": 35
        }
      },
      "source": [
        "#降维\n",
        "x_train=pd.DataFrame(x_train)\n",
        "x_train=x_train.loc[:, (x_train != 0).any(axis=0)]#删除全0列\n",
        "x_train=x_train.values\n",
        "x_test=pd.DataFrame(x_test)\n",
        "x_test=x_test.loc[:, (x_test != 0).any(axis=0)]#删除全0列\n",
        "x_test=x_test.values\n",
        "len(x_test[1,:])"
      ],
      "execution_count": 0,
      "outputs": [
        {
          "output_type": "execute_result",
          "data": {
            "text/plain": [
              "19"
            ]
          },
          "metadata": {
            "tags": []
          },
          "execution_count": 73
        }
      ]
    },
    {
      "cell_type": "code",
      "metadata": {
        "id": "AUhVo6znF228",
        "colab_type": "code",
        "outputId": "87b5a4be-0ec9-412a-e97a-9fe037d7d093",
        "colab": {
          "base_uri": "https://localhost:8080/",
          "height": 305
        }
      },
      "source": [
        "train_data,test_data, train_labels, test_labels=x_train,x_test,y_train,y_test\n",
        "#随机森林方法\n",
        "from sklearn.ensemble import RandomForestClassifier\n",
        "model = RandomForestClassifier(max_depth=2, random_state=0)\n",
        "model.fit(train_data,train_labels)\n",
        "print(\"测试集:\")\n",
        "predict_target2=model.predict(test_data)\n",
        "print(\"预测正确数量,测试集样本量:\")\n",
        "print(sum(predict_target2 == test_labels),len(test_labels))\n",
        "print(\"精确度等指标：\")\n",
        "print(metrics.classification_report(test_labels,predict_target2))\n",
        "print(\"混淆矩阵：\")\n",
        "print(metrics.confusion_matrix(test_labels,predict_target2))\n"
      ],
      "execution_count": 0,
      "outputs": [
        {
          "output_type": "stream",
          "text": [
            "测试集:\n",
            "预测正确数量,测试集样本量:\n",
            "73042 100000\n",
            "精确度等指标：\n",
            "              precision    recall  f1-score   support\n",
            "\n",
            "         0.0       1.00      0.73      0.84     98701\n",
            "         1.0       0.04      0.85      0.08      1299\n",
            "\n",
            "    accuracy                           0.73    100000\n",
            "   macro avg       0.52      0.79      0.46    100000\n",
            "weighted avg       0.98      0.73      0.83    100000\n",
            "\n",
            "混淆矩阵：\n",
            "[[71943 26758]\n",
            " [  200  1099]]\n"
          ],
          "name": "stdout"
        }
      ]
    },
    {
      "cell_type": "code",
      "metadata": {
        "id": "PXJ3z3KOF258",
        "colab_type": "code",
        "outputId": "23051af2-f95e-468b-a0b3-96d695310a78",
        "colab": {
          "base_uri": "https://localhost:8080/",
          "height": 505
        }
      },
      "source": [
        "#logistic回归\n",
        "from sklearn.linear_model import LogisticRegression\n",
        "model = LogisticRegression(random_state=0,l1_ratio=0.01)\n",
        "model.fit(train_data,train_labels)\n",
        "print(\"测试集:\")\n",
        "predict_target2=model.predict(test_data)\n",
        "print(\"预测正确数量,测试集样本量:\")\n",
        "print(sum(predict_target2 == test_labels),len(test_labels))\n",
        "print(\"精确度等指标：\")\n",
        "print(metrics.classification_report(test_labels,predict_target2))\n",
        "print(\"混淆矩阵：\")\n",
        "print(metrics.confusion_matrix(test_labels,predict_target2))\n"
      ],
      "execution_count": 0,
      "outputs": [
        {
          "output_type": "stream",
          "text": [
            "/usr/local/lib/python3.6/dist-packages/sklearn/linear_model/_logistic.py:1501: UserWarning: l1_ratio parameter is only used when penalty is 'elasticnet'. Got (penalty=l2)\n",
            "  \"(penalty={})\".format(self.penalty))\n",
            "/usr/local/lib/python3.6/dist-packages/sklearn/linear_model/_logistic.py:940: ConvergenceWarning: lbfgs failed to converge (status=1):\n",
            "STOP: TOTAL NO. of ITERATIONS REACHED LIMIT.\n",
            "\n",
            "Increase the number of iterations (max_iter) or scale the data as shown in:\n",
            "    https://scikit-learn.org/stable/modules/preprocessing.html\n",
            "Please also refer to the documentation for alternative solver options:\n",
            "    https://scikit-learn.org/stable/modules/linear_model.html#logistic-regression\n",
            "  extra_warning_msg=_LOGISTIC_SOLVER_CONVERGENCE_MSG)\n"
          ],
          "name": "stderr"
        },
        {
          "output_type": "stream",
          "text": [
            "测试集:\n",
            "预测正确数量,测试集样本量:\n",
            "78371 100000\n",
            "精确度等指标：\n",
            "              precision    recall  f1-score   support\n",
            "\n",
            "         0.0       1.00      0.78      0.88     98701\n",
            "         1.0       0.04      0.71      0.08      1299\n",
            "\n",
            "    accuracy                           0.78    100000\n",
            "   macro avg       0.52      0.75      0.48    100000\n",
            "weighted avg       0.98      0.78      0.87    100000\n",
            "\n",
            "混淆矩阵：\n",
            "[[77451 21250]\n",
            " [  379   920]]\n"
          ],
          "name": "stdout"
        }
      ]
    },
    {
      "cell_type": "code",
      "metadata": {
        "id": "u8tDJNmOCgBX",
        "colab_type": "code",
        "outputId": "ac2b5556-11cf-43cf-fe7a-2fb654dafb6c",
        "colab": {
          "base_uri": "https://localhost:8080/",
          "height": 305
        }
      },
      "source": [
        "#使用adaboost分类算法\n",
        "from sklearn.ensemble import AdaBoostClassifier\n",
        "model = AdaBoostClassifier(n_estimators=100, random_state=0)\n",
        "model.fit(train_data,train_labels)\n",
        "print(\"测试集:\")\n",
        "predict_target2=model.predict(test_data)\n",
        "print(\"预测正确数量,测试集样本量:\")\n",
        "print(sum(predict_target2 == test_labels),len(test_labels))\n",
        "print(\"精确度等指标：\")\n",
        "print(metrics.classification_report(test_labels,predict_target2))\n",
        "print(\"混淆矩阵：\")\n",
        "print(metrics.confusion_matrix(test_labels,predict_target2))"
      ],
      "execution_count": 0,
      "outputs": [
        {
          "output_type": "stream",
          "text": [
            "测试集:\n",
            "预测正确数量,测试集样本量:\n",
            "77659 100000\n",
            "精确度等指标：\n",
            "              precision    recall  f1-score   support\n",
            "\n",
            "         0.0       1.00      0.78      0.87     98701\n",
            "         1.0       0.05      0.83      0.09      1299\n",
            "\n",
            "    accuracy                           0.78    100000\n",
            "   macro avg       0.52      0.80      0.48    100000\n",
            "weighted avg       0.98      0.78      0.86    100000\n",
            "\n",
            "混淆矩阵：\n",
            "[[76579 22122]\n",
            " [  219  1080]]\n"
          ],
          "name": "stdout"
        }
      ]
    },
    {
      "cell_type": "code",
      "metadata": {
        "id": "Ag2XTpaGfYp0",
        "colab_type": "code",
        "outputId": "fbbc006d-7a82-4c00-9aff-675a2151d952",
        "colab": {
          "base_uri": "https://localhost:8080/",
          "height": 305
        }
      },
      "source": [
        "#梯度提升分类\n",
        "from sklearn.ensemble import GradientBoostingClassifier\n",
        "model =GradientBoostingClassifier(random_state=123)\n",
        "model.fit(train_data,train_labels)\n",
        "print(\"测试集:\")\n",
        "predict_target2=model.predict(test_data)\n",
        "print(\"预测正确数量,测试集样本量:\")\n",
        "print(sum(predict_target2 == test_labels),len(test_labels))\n",
        "print(\"精确度等指标：\")\n",
        "print(metrics.classification_report(test_labels,predict_target2))\n",
        "print(\"混淆矩阵：\")\n",
        "print(metrics.confusion_matrix(test_labels,predict_target2))"
      ],
      "execution_count": 0,
      "outputs": [
        {
          "output_type": "stream",
          "text": [
            "测试集:\n",
            "预测正确数量,测试集样本量:\n",
            "78674 100000\n",
            "精确度等指标：\n",
            "              precision    recall  f1-score   support\n",
            "\n",
            "         0.0       1.00      0.79      0.88     98701\n",
            "         1.0       0.05      0.85      0.09      1299\n",
            "\n",
            "    accuracy                           0.79    100000\n",
            "   macro avg       0.52      0.82      0.49    100000\n",
            "weighted avg       0.99      0.79      0.87    100000\n",
            "\n",
            "混淆矩阵：\n",
            "[[77574 21127]\n",
            " [  199  1100]]\n"
          ],
          "name": "stdout"
        }
      ]
    },
    {
      "cell_type": "code",
      "metadata": {
        "id": "T_tQY9wuppdw",
        "colab_type": "code",
        "outputId": "db02eb0b-9099-4f69-9848-d7972733074a",
        "colab": {
          "base_uri": "https://localhost:8080/",
          "height": 361
        }
      },
      "source": [
        "#神经网络分类方法\n",
        "from sklearn.neural_network import MLPClassifier\n",
        "model = MLPClassifier()\n",
        "model.fit(train_data,train_labels)\n",
        "print(\"测试集:\")\n",
        "predict_target2=model.predict(test_data)\n",
        "print(\"预测正确数量,测试集样本量:\")\n",
        "print(sum(predict_target2 == test_labels),len(test_labels))\n",
        "print(\"精确度等指标：\")\n",
        "print(metrics.classification_report(test_labels,predict_target2))\n",
        "print(\"混淆矩阵：\")\n",
        "print(metrics.confusion_matrix(test_labels,predict_target2))"
      ],
      "execution_count": 0,
      "outputs": [
        {
          "output_type": "stream",
          "text": [
            "/usr/local/lib/python3.6/dist-packages/sklearn/neural_network/_multilayer_perceptron.py:571: ConvergenceWarning: Stochastic Optimizer: Maximum iterations (200) reached and the optimization hasn't converged yet.\n",
            "  % self.max_iter, ConvergenceWarning)\n"
          ],
          "name": "stderr"
        },
        {
          "output_type": "stream",
          "text": [
            "测试集:\n",
            "预测正确数量,测试集样本量:\n",
            "77748 100000\n",
            "精确度等指标：\n",
            "              precision    recall  f1-score   support\n",
            "\n",
            "         0.0       1.00      0.78      0.87     98699\n",
            "         1.0       0.05      0.84      0.09      1301\n",
            "\n",
            "    accuracy                           0.78    100000\n",
            "   macro avg       0.52      0.81      0.48    100000\n",
            "weighted avg       0.98      0.78      0.86    100000\n",
            "\n",
            "混淆矩阵：\n",
            "[[76661 22038]\n",
            " [  214  1087]]\n"
          ],
          "name": "stdout"
        }
      ]
    },
    {
      "cell_type": "code",
      "metadata": {
        "id": "sywhBIG-YKIt",
        "colab_type": "code",
        "colab": {}
      },
      "source": [
        ""
      ],
      "execution_count": 0,
      "outputs": []
    }
  ]
}