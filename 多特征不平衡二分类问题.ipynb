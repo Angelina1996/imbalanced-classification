{
 "cells": [
  {
   "cell_type": "code",
   "execution_count": 79,
   "metadata": {},
   "outputs": [],
   "source": [
    "# 导入工具包 numpy pandas用于数据处理  \n",
    "import numpy as np\n",
    "import pandas as pd\n",
    "from sklearn.utils import shuffle\n",
    "from sklearn import preprocessing\n",
    "%matplotlib inline"
   ]
  },
  {
   "cell_type": "code",
   "execution_count": 80,
   "metadata": {},
   "outputs": [
    {
     "data": {
      "text/plain": [
       "((18546, 49), (18546,))"
      ]
     },
     "execution_count": 80,
     "metadata": {},
     "output_type": "execute_result"
    }
   ],
   "source": [
    "#读取数据\n",
    "#不用的特征\n",
    "nouse=['area_id','user_id','prov_id','total_times','sex','is_act_expire','call_days','short_call10','long_call10','bank_cnt']\n",
    "df = pd.read_csv('train.csv')\n",
    "df = shuffle(df)\n",
    "train=df.iloc[:,]\n",
    "#test=df.iloc[:,]\n",
    "train=train.dropna()#删除缺失值\n",
    "train=train.sort_values(by='is_5g',ascending=False)#按照is_5g排序\n",
    "cut=int(sum(train['is_5g']))\n",
    "train=train.iloc[:2*cut,:]#选取前2*cut行\n",
    "#划分特征 与 标签 展现下数据形状\n",
    "y_train=train['is_5g']\n",
    "x_train=train.iloc[:,:-1]\n",
    "x_train=x_train.drop(nouse,axis=1)\n",
    "#进行数据归一化\n",
    "min_max_scaler = preprocessing.MinMaxScaler()\n",
    "x_train01=min_max_scaler.fit_transform(x_train)\n",
    "x_train= pd.DataFrame(x_train01,columns=x_train.columns)\n",
    "x_train=x_train.values\n",
    "y_train=y_train.values\n",
    "x_train.shape,y_train.shape"
   ]
  },
  {
   "cell_type": "code",
   "execution_count": 81,
   "metadata": {},
   "outputs": [
    {
     "data": {
      "text/plain": [
       "(300000, 49)"
      ]
     },
     "execution_count": 81,
     "metadata": {},
     "output_type": "execute_result"
    }
   ],
   "source": [
    "#读取测试集\n",
    "df=pd.read_csv('test.csv')\n",
    "df = shuffle(df)\n",
    "test=df.iloc[:,]\n",
    "test=test.dropna()\n",
    "#划分特征 与 标签 展现下数据形状\n",
    "x_test=test.iloc[:,:]\n",
    "user=x_test['user_id']\n",
    "nouse=['user_id','total_times','sex','is_act_expire','call_days','short_call10','long_call10','bank_cnt']\n",
    "x_test=x_test.drop(nouse,axis=1)\n",
    "#进行数据归一化\n",
    "min_max_scaler = preprocessing.MinMaxScaler()\n",
    "x_test01=min_max_scaler.fit_transform(x_test)\n",
    "x_test= pd.DataFrame(x_test01,columns=x_test.columns)\n",
    "x_test=x_test.values\n",
    "x_test.shape"
   ]
  },
  {
   "cell_type": "code",
   "execution_count": 82,
   "metadata": {},
   "outputs": [],
   "source": [
    "train_data,test_data, train_labels=x_train,x_test,y_train"
   ]
  },
  {
   "cell_type": "code",
   "execution_count": 83,
   "metadata": {},
   "outputs": [],
   "source": [
    "#使用adaboost分类算法\n",
    "from sklearn.ensemble import AdaBoostClassifier\n",
    "model = AdaBoostClassifier(n_estimators=100, random_state=0)\n",
    "model.fit(train_data,train_labels)\n",
    "predict_target2=model.predict(test_data)"
   ]
  },
  {
   "cell_type": "code",
   "execution_count": 73,
   "metadata": {},
   "outputs": [
    {
     "name": "stderr",
     "output_type": "stream",
     "text": [
      "E:\\anoconda\\lib\\site-packages\\sklearn\\neural_network\\multilayer_perceptron.py:566: ConvergenceWarning: Stochastic Optimizer: Maximum iterations (200) reached and the optimization hasn't converged yet.\n",
      "  % self.max_iter, ConvergenceWarning)\n"
     ]
    }
   ],
   "source": [
    "#神经网络分类方法\n",
    "from sklearn.neural_network import MLPClassifier\n",
    "model = MLPClassifier()\n",
    "model.fit(train_data,train_labels)\n",
    "predict_target2=model.predict(test_data)"
   ]
  },
  {
   "cell_type": "code",
   "execution_count": 76,
   "metadata": {},
   "outputs": [
    {
     "name": "stderr",
     "output_type": "stream",
     "text": [
      "E:\\anoconda\\lib\\site-packages\\sklearn\\linear_model\\logistic.py:432: FutureWarning: Default solver will be changed to 'lbfgs' in 0.22. Specify a solver to silence this warning.\n",
      "  FutureWarning)\n",
      "E:\\anoconda\\lib\\site-packages\\sklearn\\linear_model\\logistic.py:1506: UserWarning: l1_ratio parameter is only used when penalty is 'elasticnet'. Got (penalty=l2)\n",
      "  \"(penalty={})\".format(self.penalty))\n"
     ]
    }
   ],
   "source": [
    "#logistic回归\n",
    "from sklearn.linear_model import LogisticRegression\n",
    "model = LogisticRegression(random_state=0,l1_ratio=0.01)\n",
    "model.fit(train_data,train_labels)\n",
    "predict_target2=model.predict(test_data)"
   ]
  },
  {
   "cell_type": "code",
   "execution_count": 70,
   "metadata": {},
   "outputs": [
    {
     "name": "stderr",
     "output_type": "stream",
     "text": [
      "E:\\anoconda\\lib\\site-packages\\sklearn\\ensemble\\forest.py:245: FutureWarning: The default value of n_estimators will change from 10 in version 0.20 to 100 in 0.22.\n",
      "  \"10 in version 0.20 to 100 in 0.22.\", FutureWarning)\n"
     ]
    }
   ],
   "source": [
    "#随机森林方法\n",
    "from sklearn.ensemble import RandomForestClassifier\n",
    "model = RandomForestClassifier(max_depth=2, random_state=0)\n",
    "model.fit(train_data,train_labels)\n",
    "predict_target2=model.predict(test_data)"
   ]
  },
  {
   "cell_type": "code",
   "execution_count": 87,
   "metadata": {},
   "outputs": [],
   "source": [
    "from sklearn.ensemble import GradientBoostingClassifier\n",
    "model =GradientBoostingClassifier(random_state=123)\n",
    "model.fit(train_data,train_labels)\n",
    "predict_target2=model.predict(test_data)"
   ]
  },
  {
   "cell_type": "code",
   "execution_count": 88,
   "metadata": {},
   "outputs": [],
   "source": [
    "res=pd.concat([pd.DataFrame(user.values,columns=['user_id']),pd.DataFrame(predict_target2,columns=['is_5g'])],axis=1)\n",
    "res.to_csv('result.csv',index=False)"
   ]
  },
  {
   "cell_type": "code",
   "execution_count": 89,
   "metadata": {},
   "outputs": [],
   "source": [
    "#输出结果 sample 根据userid索引\n",
    "import pandas as pd\n",
    "df1 =pd.DataFrame(pd.read_csv('sample.csv'))\n",
    "df1=df1.drop('is_5g', axis=1)\n",
    "df2 =pd.DataFrame(pd.read_csv('result.csv'))\n",
    "result = pd.merge(df1,df2.loc[:,['user_id','is_5g']],how='left',on = 'user_id')\n",
    "result.to_csv('sample_result.csv',index=False)"
   ]
  },
  {
   "cell_type": "code",
   "execution_count": null,
   "metadata": {},
   "outputs": [],
   "source": []
  },
  {
   "cell_type": "code",
   "execution_count": 84,
   "metadata": {},
   "outputs": [
    {
     "name": "stderr",
     "output_type": "stream",
     "text": [
      "E:\\anoconda\\lib\\site-packages\\sklearn\\ensemble\\forest.py:245: FutureWarning: The default value of n_estimators will change from 10 in version 0.20 to 100 in 0.22.\n",
      "  \"10 in version 0.20 to 100 in 0.22.\", FutureWarning)\n",
      "E:\\anoconda\\lib\\site-packages\\sklearn\\neural_network\\multilayer_perceptron.py:566: ConvergenceWarning: Stochastic Optimizer: Maximum iterations (200) reached and the optimization hasn't converged yet.\n",
      "  % self.max_iter, ConvergenceWarning)\n",
      "E:\\anoconda\\lib\\site-packages\\sklearn\\linear_model\\logistic.py:432: FutureWarning: Default solver will be changed to 'lbfgs' in 0.22. Specify a solver to silence this warning.\n",
      "  FutureWarning)\n"
     ]
    },
    {
     "name": "stdout",
     "output_type": "stream",
     "text": [
      "训练集:\n",
      "预测正确数量,训练集样本量:\n",
      "7888 10734\n",
      "精确度等指标：\n",
      "              precision    recall  f1-score   support\n",
      "\n",
      "         0.0       0.82      0.60      0.69      5367\n",
      "         1.0       0.68      0.87      0.77      5367\n",
      "\n",
      "    accuracy                           0.73     10734\n",
      "   macro avg       0.75      0.73      0.73     10734\n",
      "weighted avg       0.75      0.73      0.73     10734\n",
      "\n",
      "混淆矩阵：\n",
      "[[3210 2157]\n",
      " [ 689 4678]]\n",
      "测试集:\n",
      "预测正确数量,测试集样本量:\n",
      "174618 300000\n",
      "精确度等指标：\n",
      "              precision    recall  f1-score   support\n",
      "\n",
      "         0.0       1.00      0.58      0.73    296094\n",
      "         1.0       0.03      0.85      0.05      3906\n",
      "\n",
      "    accuracy                           0.58    300000\n",
      "   macro avg       0.51      0.71      0.39    300000\n",
      "weighted avg       0.98      0.58      0.72    300000\n",
      "\n",
      "混淆矩阵：\n",
      "[[171308 124786]\n",
      " [   596   3310]]\n",
      "在训练集上的预测效果:\n"
     ]
    },
    {
     "data": {
      "image/png": "[encoded data removed]",
      "text/plain": [
       "<Figure size 432x288 with 1 Axes>"
      ]
     },
     "metadata": {
      "needs_background": "light"
     },
     "output_type": "display_data"
    },
    {
     "name": "stdout",
     "output_type": "stream",
     "text": [
      "在测试集上的预测效果:\n"
     ]
    },
    {
     "name": "stderr",
     "output_type": "stream",
     "text": [
      "E:\\anoconda\\lib\\site-packages\\IPython\\core\\pylabtools.py:128: UserWarning: Creating legend with loc=\"best\" can be slow with large amounts of data.\n",
      "  fig.canvas.print_figure(bytes_io, **kw)\n"
     ]
    },
    {
     "data": {
      "image/png": "[encoded data removed]",
      "text/plain": [
       "<Figure size 432x288 with 1 Axes>"
      ]
     },
     "metadata": {
      "needs_background": "light"
     },
     "output_type": "display_data"
    }
   ],
   "source": [
    "#用上面三种效果最好的算法集成 得到的投票分类算法\n",
    "from sklearn.ensemble import VotingClassifier\n",
    "clf1 = RandomForestClassifier(max_depth=2, random_state=0)\n",
    "clf2 = MLPClassifier()\n",
    "clf3 = LogisticRegression(random_state=0,)\n",
    "model = VotingClassifier(estimators=[\n",
    "        ('lr', clf1), ('rf', clf2), ('gnb', clf3)], voting='soft')#hard\n",
    "model.fit(train_data,train_labels)\n",
    "print(\"测试集:\")\n",
    "predict_target2=model.predict(test_data)\n",
    "print(\"预测正确数量,测试集样本量:\")\n",
    "print(sum(predict_target2 == test_labels),len(test_labels))\n",
    "print(\"精确度等指标：\")\n",
    "print(metrics.classification_report(test_labels,predict_target2))\n",
    "print(\"混淆矩阵：\")\n",
    "print(metrics.confusion_matrix(test_labels,predict_target2))\n"
   ]
  },
  {
   "cell_type": "code",
   "execution_count": null,
   "metadata": {},
   "outputs": [],
   "source": []
  },
  {
   "cell_type": "code",
   "execution_count": 31,
   "metadata": {},
   "outputs": [],
   "source": []
  },
  {
   "cell_type": "code",
   "execution_count": 32,
   "metadata": {},
   "outputs": [],
   "source": []
  },
  {
   "cell_type": "code",
   "execution_count": 35,
   "metadata": {},
   "outputs": [],
   "source": []
  },
  {
   "cell_type": "code",
   "execution_count": null,
   "metadata": {},
   "outputs": [],
   "source": []
  }
 ],
 "metadata": {
  "kernelspec": {
   "display_name": "Python 3",
   "language": "python",
   "name": "python3"
  },
  "language_info": {
   "codemirror_mode": {
    "name": "ipython",
    "version": 3
   },
   "file_extension": ".py",
   "mimetype": "text/x-python",
   "name": "python",
   "nbconvert_exporter": "python",
   "pygments_lexer": "ipython3",
   "version": "3.7.3"
  }
 },
 "nbformat": 4,
 "nbformat_minor": 2
}
